{
 "cells": [
  {
   "cell_type": "markdown",
   "metadata": {
    "slideshow": {
     "slide_type": "slide"
    }
   },
   "source": [
    "# Aggregation"
   ]
  },
  {
   "cell_type": "code",
   "execution_count": 3,
   "metadata": {
    "slideshow": {
     "slide_type": "fragment"
    }
   },
   "outputs": [],
   "source": [
    "import pandas as pd\n",
    "from dfply import *"
   ]
  },
  {
   "cell_type": "markdown",
   "metadata": {
    "slideshow": {
     "slide_type": "slide"
    }
   },
   "source": [
    "## What is aggregation?\n",
    "\n",
    "The act of collapsing many rows into few rows."
   ]
  },
  {
   "cell_type": "markdown",
   "metadata": {
    "slideshow": {
     "slide_type": "slide"
    }
   },
   "source": [
    "## Example - Baseball pitching"
   ]
  },
  {
   "cell_type": "code",
   "execution_count": 4,
   "metadata": {
    "scrolled": true,
    "slideshow": {
     "slide_type": "fragment"
    }
   },
   "outputs": [
    {
     "data": {
      "text/html": [
       "<div>\n",
       "<style scoped>\n",
       "    .dataframe tbody tr th:only-of-type {\n",
       "        vertical-align: middle;\n",
       "    }\n",
       "\n",
       "    .dataframe tbody tr th {\n",
       "        vertical-align: top;\n",
       "    }\n",
       "\n",
       "    .dataframe thead th {\n",
       "        text-align: right;\n",
       "    }\n",
       "</style>\n",
       "<table border=\"1\" class=\"dataframe\">\n",
       "  <thead>\n",
       "    <tr style=\"text-align: right;\">\n",
       "      <th></th>\n",
       "      <th>playerID</th>\n",
       "      <th>yearID</th>\n",
       "      <th>stint</th>\n",
       "      <th>teamID</th>\n",
       "      <th>lgID</th>\n",
       "      <th>W</th>\n",
       "      <th>L</th>\n",
       "      <th>G</th>\n",
       "      <th>GS</th>\n",
       "      <th>CG</th>\n",
       "      <th>...</th>\n",
       "      <th>WP</th>\n",
       "      <th>HBP</th>\n",
       "      <th>BK</th>\n",
       "      <th>BFP</th>\n",
       "      <th>GF</th>\n",
       "      <th>R</th>\n",
       "      <th>SH</th>\n",
       "      <th>SF</th>\n",
       "      <th>GIDP</th>\n",
       "      <th>id</th>\n",
       "    </tr>\n",
       "  </thead>\n",
       "  <tbody>\n",
       "    <tr>\n",
       "      <th>0</th>\n",
       "      <td>bechtge01</td>\n",
       "      <td>1871</td>\n",
       "      <td>1</td>\n",
       "      <td>PH1</td>\n",
       "      <td>NaN</td>\n",
       "      <td>1</td>\n",
       "      <td>2</td>\n",
       "      <td>3</td>\n",
       "      <td>3</td>\n",
       "      <td>2</td>\n",
       "      <td>...</td>\n",
       "      <td>7</td>\n",
       "      <td>NaN</td>\n",
       "      <td>0</td>\n",
       "      <td>146.0</td>\n",
       "      <td>0</td>\n",
       "      <td>42</td>\n",
       "      <td>NaN</td>\n",
       "      <td>NaN</td>\n",
       "      <td>NaN</td>\n",
       "      <td>0</td>\n",
       "    </tr>\n",
       "    <tr>\n",
       "      <th>1</th>\n",
       "      <td>brainas01</td>\n",
       "      <td>1871</td>\n",
       "      <td>1</td>\n",
       "      <td>WS3</td>\n",
       "      <td>NaN</td>\n",
       "      <td>12</td>\n",
       "      <td>15</td>\n",
       "      <td>30</td>\n",
       "      <td>30</td>\n",
       "      <td>30</td>\n",
       "      <td>...</td>\n",
       "      <td>7</td>\n",
       "      <td>NaN</td>\n",
       "      <td>0</td>\n",
       "      <td>1291.0</td>\n",
       "      <td>0</td>\n",
       "      <td>292</td>\n",
       "      <td>NaN</td>\n",
       "      <td>NaN</td>\n",
       "      <td>NaN</td>\n",
       "      <td>1</td>\n",
       "    </tr>\n",
       "    <tr>\n",
       "      <th>2</th>\n",
       "      <td>fergubo01</td>\n",
       "      <td>1871</td>\n",
       "      <td>1</td>\n",
       "      <td>NY2</td>\n",
       "      <td>NaN</td>\n",
       "      <td>0</td>\n",
       "      <td>0</td>\n",
       "      <td>1</td>\n",
       "      <td>0</td>\n",
       "      <td>0</td>\n",
       "      <td>...</td>\n",
       "      <td>2</td>\n",
       "      <td>NaN</td>\n",
       "      <td>0</td>\n",
       "      <td>14.0</td>\n",
       "      <td>0</td>\n",
       "      <td>9</td>\n",
       "      <td>NaN</td>\n",
       "      <td>NaN</td>\n",
       "      <td>NaN</td>\n",
       "      <td>2</td>\n",
       "    </tr>\n",
       "    <tr>\n",
       "      <th>3</th>\n",
       "      <td>fishech01</td>\n",
       "      <td>1871</td>\n",
       "      <td>1</td>\n",
       "      <td>RC1</td>\n",
       "      <td>NaN</td>\n",
       "      <td>4</td>\n",
       "      <td>16</td>\n",
       "      <td>24</td>\n",
       "      <td>24</td>\n",
       "      <td>22</td>\n",
       "      <td>...</td>\n",
       "      <td>20</td>\n",
       "      <td>NaN</td>\n",
       "      <td>0</td>\n",
       "      <td>1080.0</td>\n",
       "      <td>1</td>\n",
       "      <td>257</td>\n",
       "      <td>NaN</td>\n",
       "      <td>NaN</td>\n",
       "      <td>NaN</td>\n",
       "      <td>3</td>\n",
       "    </tr>\n",
       "    <tr>\n",
       "      <th>4</th>\n",
       "      <td>fleetfr01</td>\n",
       "      <td>1871</td>\n",
       "      <td>1</td>\n",
       "      <td>NY2</td>\n",
       "      <td>NaN</td>\n",
       "      <td>0</td>\n",
       "      <td>1</td>\n",
       "      <td>1</td>\n",
       "      <td>1</td>\n",
       "      <td>1</td>\n",
       "      <td>...</td>\n",
       "      <td>0</td>\n",
       "      <td>NaN</td>\n",
       "      <td>0</td>\n",
       "      <td>57.0</td>\n",
       "      <td>0</td>\n",
       "      <td>21</td>\n",
       "      <td>NaN</td>\n",
       "      <td>NaN</td>\n",
       "      <td>NaN</td>\n",
       "      <td>4</td>\n",
       "    </tr>\n",
       "  </tbody>\n",
       "</table>\n",
       "<p>5 rows × 31 columns</p>\n",
       "</div>"
      ],
      "text/plain": [
       "    playerID  yearID  stint teamID lgID   W   L   G  GS  CG  ...  WP  HBP  BK  \\\n",
       "0  bechtge01    1871      1    PH1  NaN   1   2   3   3   2  ...   7  NaN   0   \n",
       "1  brainas01    1871      1    WS3  NaN  12  15  30  30  30  ...   7  NaN   0   \n",
       "2  fergubo01    1871      1    NY2  NaN   0   0   1   0   0  ...   2  NaN   0   \n",
       "3  fishech01    1871      1    RC1  NaN   4  16  24  24  22  ...  20  NaN   0   \n",
       "4  fleetfr01    1871      1    NY2  NaN   0   1   1   1   1  ...   0  NaN   0   \n",
       "\n",
       "      BFP  GF    R  SH  SF  GIDP  id  \n",
       "0   146.0   0   42 NaN NaN   NaN   0  \n",
       "1  1291.0   0  292 NaN NaN   NaN   1  \n",
       "2    14.0   0    9 NaN NaN   NaN   2  \n",
       "3  1080.0   1  257 NaN NaN   NaN   3  \n",
       "4    57.0   0   21 NaN NaN   NaN   4  \n",
       "\n",
       "[5 rows x 31 columns]"
      ]
     },
     "execution_count": 4,
     "metadata": {},
     "output_type": "execute_result"
    }
   ],
   "source": [
    "pitching_raw = pd.read_csv('./data/baseball/core/Pitching.csv') \n",
    "pitching = (pitching_raw >>\n",
    "             mutate(id = pitching_raw.index))\n",
    "pitching.head()"
   ]
  },
  {
   "cell_type": "markdown",
   "metadata": {
    "slideshow": {
     "slide_type": "slide"
    }
   },
   "source": [
    "## Simple Aggregation\n",
    "\n",
    "A **simple aggregation** collapses all rows into one row.\n",
    "\n",
    "<img src=\"./img/simple_aggregation.png\" width=800>"
   ]
  },
  {
   "cell_type": "markdown",
   "metadata": {
    "slideshow": {
     "slide_type": "slide"
    }
   },
   "source": [
    "## Simple aggregation with `dfply.summarise`"
   ]
  },
  {
   "cell_type": "code",
<<<<<<< HEAD
   "execution_count": 13,
=======
   "execution_count": 5,
>>>>>>> 978c62017c0e01c4ffa742ab65a944513d3e7e08
   "metadata": {
    "scrolled": true,
    "slideshow": {
     "slide_type": "fragment"
    }
   },
   "outputs": [
    {
     "data": {
      "text/html": [
       "<div>\n",
       "<style scoped>\n",
       "    .dataframe tbody tr th:only-of-type {\n",
       "        vertical-align: middle;\n",
       "    }\n",
       "\n",
       "    .dataframe tbody tr th {\n",
       "        vertical-align: top;\n",
       "    }\n",
       "\n",
       "    .dataframe thead th {\n",
       "        text-align: right;\n",
       "    }\n",
       "</style>\n",
       "<table border=\"1\" class=\"dataframe\">\n",
       "  <thead>\n",
       "    <tr style=\"text-align: right;\">\n",
       "      <th></th>\n",
       "      <th>mean_era</th>\n",
       "      <th>sd_era</th>\n",
       "      <th>max_wins</th>\n",
       "      <th>min_wins</th>\n",
       "    </tr>\n",
       "  </thead>\n",
       "  <tbody>\n",
       "    <tr>\n",
       "      <th>0</th>\n",
       "      <td>5.11792</td>\n",
       "      <td>5.466654</td>\n",
       "      <td>60</td>\n",
       "      <td>0</td>\n",
       "    </tr>\n",
       "  </tbody>\n",
       "</table>\n",
       "</div>"
      ],
      "text/plain": [
       "   mean_era    sd_era  max_wins  min_wins\n",
       "0   5.11792  5.466654        60         0"
      ]
     },
<<<<<<< HEAD
     "execution_count": 13,
=======
     "execution_count": 5,
>>>>>>> 978c62017c0e01c4ffa742ab65a944513d3e7e08
     "metadata": {},
     "output_type": "execute_result"
    }
   ],
   "source": [
    "(pitching \n",
    " >> summarise(mean_era = mean(X.ERA),\n",
    "              sd_era = sd(X.ERA),\n",
    "              max_wins = X.W.max(),\n",
    "              min_wins = X.W.min()))"
   ]
  },
  {
   "cell_type": "markdown",
   "metadata": {
    "slideshow": {
     "slide_type": "slide"
    }
   },
   "source": [
    "## <font color=\"red\"> Exercise 1 </font>\n",
    "\n",
    "The [dead ball era](https://en.wikipedia.org/wiki/Dead-ball_era) in MLB includes the year from about 1900 to 1918, which was known for a low number of runs per game.  After this period, the number of runs per game increased dramatically and one possible reason for this change was a changes made to the baseball at the start of the 1920 season.    \n",
    "\n",
    "**Tasks:** Complete that following tasks using `pandas` and `dfply`\n",
    "\n",
    "* Compute the average runs allowed per pitcher (column `R`) for the following two ranges of years: \n",
    "    * 1900-1919 and \n",
    "    * 1920-1939.  \n",
    "* Is there evidence of a difference in the number of runs allowed for each era?"
   ]
  },
  {
   "cell_type": "code",
<<<<<<< HEAD
   "execution_count": 15,
=======
   "execution_count": 10,
>>>>>>> 978c62017c0e01c4ffa742ab65a944513d3e7e08
   "metadata": {
    "slideshow": {
     "slide_type": "fragment"
    }
   },
   "outputs": [
    {
     "data": {
      "text/html": [
       "<div>\n",
       "<style scoped>\n",
       "    .dataframe tbody tr th:only-of-type {\n",
       "        vertical-align: middle;\n",
       "    }\n",
       "\n",
       "    .dataframe tbody tr th {\n",
       "        vertical-align: top;\n",
       "    }\n",
       "\n",
       "    .dataframe thead th {\n",
       "        text-align: right;\n",
       "    }\n",
       "</style>\n",
       "<table border=\"1\" class=\"dataframe\">\n",
       "  <thead>\n",
       "    <tr style=\"text-align: right;\">\n",
       "      <th></th>\n",
<<<<<<< HEAD
       "      <th>mean_runs</th>\n",
=======
       "      <th>playerID</th>\n",
       "      <th>mean_run</th>\n",
>>>>>>> 978c62017c0e01c4ffa742ab65a944513d3e7e08
       "    </tr>\n",
       "  </thead>\n",
       "  <tbody>\n",
       "    <tr>\n",
       "      <th>0</th>\n",
<<<<<<< HEAD
       "      <td>52.638872</td>\n",
       "    </tr>\n",
       "  </tbody>\n",
       "</table>\n",
       "</div>"
      ],
      "text/plain": [
       "   mean_runs\n",
       "0  52.638872"
      ]
     },
     "execution_count": 15,
=======
       "      <td>ablesha01</td>\n",
       "      <td>17.000000</td>\n",
       "    </tr>\n",
       "    <tr>\n",
       "      <th>1</th>\n",
       "      <td>abramge01</td>\n",
       "      <td>5.000000</td>\n",
       "    </tr>\n",
       "    <tr>\n",
       "      <th>2</th>\n",
       "      <td>acostjo01</td>\n",
       "      <td>39.666667</td>\n",
       "    </tr>\n",
       "    <tr>\n",
       "      <th>3</th>\n",
       "      <td>adamsba01</td>\n",
       "      <td>59.421053</td>\n",
       "    </tr>\n",
       "    <tr>\n",
       "      <th>4</th>\n",
       "      <td>adamsbo01</td>\n",
       "      <td>5.000000</td>\n",
       "    </tr>\n",
       "    <tr>\n",
       "      <th>...</th>\n",
       "      <td>...</td>\n",
       "      <td>...</td>\n",
       "    </tr>\n",
       "    <tr>\n",
       "      <th>2275</th>\n",
       "      <td>zeisema01</td>\n",
       "      <td>4.000000</td>\n",
       "    </tr>\n",
       "    <tr>\n",
       "      <th>2276</th>\n",
       "      <td>zinkwa01</td>\n",
       "      <td>3.000000</td>\n",
       "    </tr>\n",
       "    <tr>\n",
       "      <th>2277</th>\n",
       "      <td>zinnji01</td>\n",
       "      <td>35.200000</td>\n",
       "    </tr>\n",
       "    <tr>\n",
       "      <th>2278</th>\n",
       "      <td>zmiched01</td>\n",
       "      <td>16.000000</td>\n",
       "    </tr>\n",
       "    <tr>\n",
       "      <th>2279</th>\n",
       "      <td>zuberbi01</td>\n",
       "      <td>17.666667</td>\n",
       "    </tr>\n",
       "  </tbody>\n",
       "</table>\n",
       "<p>2280 rows × 2 columns</p>\n",
       "</div>"
      ],
      "text/plain": [
       "       playerID   mean_run\n",
       "0     ablesha01  17.000000\n",
       "1     abramge01   5.000000\n",
       "2     acostjo01  39.666667\n",
       "3     adamsba01  59.421053\n",
       "4     adamsbo01   5.000000\n",
       "...         ...        ...\n",
       "2275  zeisema01   4.000000\n",
       "2276   zinkwa01   3.000000\n",
       "2277   zinnji01  35.200000\n",
       "2278  zmiched01  16.000000\n",
       "2279  zuberbi01  17.666667\n",
       "\n",
       "[2280 rows x 2 columns]"
      ]
     },
     "execution_count": 10,
>>>>>>> 978c62017c0e01c4ffa742ab65a944513d3e7e08
     "metadata": {},
     "output_type": "execute_result"
    }
   ],
   "source": [
    "(pitching\n",
    ">> filter_by(X.yearID >= 1900, X.yearID <= 1939)\n",
<<<<<<< HEAD
    ">> summarise(mean_runs = mean(X.R))\n",
    ">> group_by()\n",
    ")"
=======
    ">> group_by(X.playerID)\n",
    ">> summarise(mean_run = mean(X.R)))"
>>>>>>> 978c62017c0e01c4ffa742ab65a944513d3e7e08
   ]
  },
  {
   "cell_type": "markdown",
   "metadata": {
    "slideshow": {
     "slide_type": "fragment"
    }
   },
   "source": [
    "> *Your thoughts here*"
   ]
  },
  {
   "cell_type": "markdown",
   "metadata": {
    "slideshow": {
     "slide_type": "slide"
    }
   },
   "source": [
    "## Group and Aggregate\n",
    "\n",
    "Group and aggregate\n",
    "\n",
    "* combines multiple filter + aggregates\n",
    "* considers all possible groups."
   ]
  },
  {
   "cell_type": "markdown",
   "metadata": {
    "slideshow": {
     "slide_type": "slide"
    }
   },
   "source": [
    "<img src=\"./img/group_and_aggregate.png\" width=800>"
   ]
  },
  {
   "cell_type": "markdown",
   "metadata": {
    "slideshow": {
     "slide_type": "slide"
    }
   },
   "source": [
    "## Using `ifelse` to classify the years"
   ]
  },
  {
   "cell_type": "code",
   "execution_count": 11,
   "metadata": {
    "slideshow": {
     "slide_type": "fragment"
    }
   },
   "outputs": [
    {
     "data": {
      "text/html": [
       "<div>\n",
       "<style scoped>\n",
       "    .dataframe tbody tr th:only-of-type {\n",
       "        vertical-align: middle;\n",
       "    }\n",
       "\n",
       "    .dataframe tbody tr th {\n",
       "        vertical-align: top;\n",
       "    }\n",
       "\n",
       "    .dataframe thead th {\n",
       "        text-align: right;\n",
       "    }\n",
       "</style>\n",
       "<table border=\"1\" class=\"dataframe\">\n",
       "  <thead>\n",
       "    <tr style=\"text-align: right;\">\n",
       "      <th></th>\n",
       "      <th>playerID</th>\n",
       "      <th>yearID</th>\n",
       "      <th>stint</th>\n",
       "      <th>teamID</th>\n",
       "      <th>lgID</th>\n",
       "      <th>W</th>\n",
       "      <th>L</th>\n",
       "      <th>G</th>\n",
       "      <th>GS</th>\n",
       "      <th>CG</th>\n",
       "      <th>...</th>\n",
       "      <th>HBP</th>\n",
       "      <th>BK</th>\n",
       "      <th>BFP</th>\n",
       "      <th>GF</th>\n",
       "      <th>R</th>\n",
       "      <th>SH</th>\n",
       "      <th>SF</th>\n",
       "      <th>GIDP</th>\n",
       "      <th>id</th>\n",
       "      <th>era</th>\n",
       "    </tr>\n",
       "  </thead>\n",
       "  <tbody>\n",
       "    <tr>\n",
       "      <th>2628</th>\n",
       "      <td>baileha01</td>\n",
       "      <td>1900</td>\n",
       "      <td>1</td>\n",
       "      <td>BSN</td>\n",
       "      <td>NL</td>\n",
       "      <td>0</td>\n",
       "      <td>0</td>\n",
       "      <td>4</td>\n",
       "      <td>1</td>\n",
       "      <td>0</td>\n",
       "      <td>...</td>\n",
       "      <td>2.0</td>\n",
       "      <td>0</td>\n",
       "      <td>94.0</td>\n",
       "      <td>2</td>\n",
       "      <td>16</td>\n",
       "      <td>NaN</td>\n",
       "      <td>NaN</td>\n",
       "      <td>NaN</td>\n",
       "      <td>2628</td>\n",
       "      <td>dead ball</td>\n",
       "    </tr>\n",
       "    <tr>\n",
       "      <th>2629</th>\n",
       "      <td>bernhbi01</td>\n",
       "      <td>1900</td>\n",
       "      <td>1</td>\n",
       "      <td>PHI</td>\n",
       "      <td>NL</td>\n",
       "      <td>15</td>\n",
       "      <td>10</td>\n",
       "      <td>32</td>\n",
       "      <td>27</td>\n",
       "      <td>20</td>\n",
       "      <td>...</td>\n",
       "      <td>5.0</td>\n",
       "      <td>1</td>\n",
       "      <td>986.0</td>\n",
       "      <td>5</td>\n",
       "      <td>151</td>\n",
       "      <td>NaN</td>\n",
       "      <td>NaN</td>\n",
       "      <td>NaN</td>\n",
       "      <td>2629</td>\n",
       "      <td>dead ball</td>\n",
       "    </tr>\n",
       "    <tr>\n",
       "      <th>2630</th>\n",
       "      <td>breitte01</td>\n",
       "      <td>1900</td>\n",
       "      <td>1</td>\n",
       "      <td>CIN</td>\n",
       "      <td>NL</td>\n",
       "      <td>10</td>\n",
       "      <td>10</td>\n",
       "      <td>24</td>\n",
       "      <td>20</td>\n",
       "      <td>18</td>\n",
       "      <td>...</td>\n",
       "      <td>14.0</td>\n",
       "      <td>0</td>\n",
       "      <td>846.0</td>\n",
       "      <td>3</td>\n",
       "      <td>111</td>\n",
       "      <td>NaN</td>\n",
       "      <td>NaN</td>\n",
       "      <td>NaN</td>\n",
       "      <td>2630</td>\n",
       "      <td>dead ball</td>\n",
       "    </tr>\n",
       "    <tr>\n",
       "      <th>2631</th>\n",
       "      <td>callani01</td>\n",
       "      <td>1900</td>\n",
       "      <td>1</td>\n",
       "      <td>CHN</td>\n",
       "      <td>NL</td>\n",
       "      <td>13</td>\n",
       "      <td>16</td>\n",
       "      <td>32</td>\n",
       "      <td>32</td>\n",
       "      <td>32</td>\n",
       "      <td>...</td>\n",
       "      <td>22.0</td>\n",
       "      <td>0</td>\n",
       "      <td>1256.0</td>\n",
       "      <td>0</td>\n",
       "      <td>195</td>\n",
       "      <td>NaN</td>\n",
       "      <td>NaN</td>\n",
       "      <td>NaN</td>\n",
       "      <td>2631</td>\n",
       "      <td>dead ball</td>\n",
       "    </tr>\n",
       "    <tr>\n",
       "      <th>2632</th>\n",
       "      <td>carribi01</td>\n",
       "      <td>1900</td>\n",
       "      <td>1</td>\n",
       "      <td>NY1</td>\n",
       "      <td>NL</td>\n",
       "      <td>19</td>\n",
       "      <td>22</td>\n",
       "      <td>45</td>\n",
       "      <td>41</td>\n",
       "      <td>32</td>\n",
       "      <td>...</td>\n",
       "      <td>13.0</td>\n",
       "      <td>0</td>\n",
       "      <td>1493.0</td>\n",
       "      <td>4</td>\n",
       "      <td>224</td>\n",
       "      <td>NaN</td>\n",
       "      <td>NaN</td>\n",
       "      <td>NaN</td>\n",
       "      <td>2632</td>\n",
       "      <td>dead ball</td>\n",
       "    </tr>\n",
       "  </tbody>\n",
       "</table>\n",
       "<p>5 rows × 32 columns</p>\n",
       "</div>"
      ],
      "text/plain": [
       "       playerID  yearID  stint teamID lgID   W   L   G  GS  CG  ...   HBP  BK  \\\n",
       "2628  baileha01    1900      1    BSN   NL   0   0   4   1   0  ...   2.0   0   \n",
       "2629  bernhbi01    1900      1    PHI   NL  15  10  32  27  20  ...   5.0   1   \n",
       "2630  breitte01    1900      1    CIN   NL  10  10  24  20  18  ...  14.0   0   \n",
       "2631  callani01    1900      1    CHN   NL  13  16  32  32  32  ...  22.0   0   \n",
       "2632  carribi01    1900      1    NY1   NL  19  22  45  41  32  ...  13.0   0   \n",
       "\n",
       "         BFP  GF    R  SH  SF  GIDP    id        era  \n",
       "2628    94.0   2   16 NaN NaN   NaN  2628  dead ball  \n",
       "2629   986.0   5  151 NaN NaN   NaN  2629  dead ball  \n",
       "2630   846.0   3  111 NaN NaN   NaN  2630  dead ball  \n",
       "2631  1256.0   0  195 NaN NaN   NaN  2631  dead ball  \n",
       "2632  1493.0   4  224 NaN NaN   NaN  2632  dead ball  \n",
       "\n",
       "[5 rows x 32 columns]"
      ]
     },
     "execution_count": 11,
     "metadata": {},
     "output_type": "execute_result"
    }
   ],
   "source": [
    "from more_dfply import ifelse\n",
    "eras = (pitching\n",
    "        >> filter_by((X.yearID >= 1900) & (X.yearID < 1940))\n",
    "        >> mutate(era = ifelse(X.yearID < 1920, \n",
    "                               \"dead ball\", \n",
    "                               \"after dead ball\"))\n",
    "       )\n",
    "eras >> head"
   ]
  },
  {
   "cell_type": "markdown",
   "metadata": {
    "slideshow": {
     "slide_type": "slide"
    }
   },
   "source": [
    "<img src=\"./img/filter_group_aggregate.png\" width=800>\n",
    "\n",
    "What we did here is actually `filter + groupby + aggregate`"
   ]
  },
  {
   "cell_type": "markdown",
   "metadata": {
    "slideshow": {
     "slide_type": "slide"
    }
   },
   "source": [
    "## Using `dfply.group_by` and `dfply.summarise` "
   ]
  },
  {
   "cell_type": "code",
   "execution_count": 12,
   "metadata": {
    "scrolled": true,
    "slideshow": {
     "slide_type": "fragment"
    }
   },
   "outputs": [
    {
     "data": {
      "text/html": [
       "<div>\n",
       "<style scoped>\n",
       "    .dataframe tbody tr th:only-of-type {\n",
       "        vertical-align: middle;\n",
       "    }\n",
       "\n",
       "    .dataframe tbody tr th {\n",
       "        vertical-align: top;\n",
       "    }\n",
       "\n",
       "    .dataframe thead th {\n",
       "        text-align: right;\n",
       "    }\n",
       "</style>\n",
       "<table border=\"1\" class=\"dataframe\">\n",
       "  <thead>\n",
       "    <tr style=\"text-align: right;\">\n",
       "      <th></th>\n",
       "      <th>era</th>\n",
       "      <th>mean_runs</th>\n",
       "    </tr>\n",
       "  </thead>\n",
       "  <tbody>\n",
       "    <tr>\n",
       "      <th>0</th>\n",
       "      <td>after dead ball</td>\n",
       "      <td>48.409311</td>\n",
       "    </tr>\n",
       "    <tr>\n",
       "      <th>1</th>\n",
       "      <td>dead ball</td>\n",
       "      <td>60.288580</td>\n",
       "    </tr>\n",
       "  </tbody>\n",
       "</table>\n",
       "</div>"
      ],
      "text/plain": [
       "               era  mean_runs\n",
       "0  after dead ball  48.409311\n",
       "1        dead ball  60.288580"
      ]
     },
     "execution_count": 12,
     "metadata": {},
     "output_type": "execute_result"
    }
   ],
   "source": [
    "mean_runs = (eras\n",
    "             >> group_by(X.era)\n",
    "             >> summarise(mean_runs = mean(X.R)))\n",
    "mean_runs"
   ]
  },
  {
   "cell_type": "markdown",
   "metadata": {
    "slideshow": {
     "slide_type": "slide"
    }
   },
   "source": [
    "## Visualizing the data with `seaborn`"
   ]
  },
  {
   "cell_type": "code",
   "execution_count": 13,
   "metadata": {
    "slideshow": {
     "slide_type": "fragment"
    }
   },
   "outputs": [],
   "source": [
    "import seaborn as sns\n",
    "import matplotlib.pylab as plt\n",
    "%matplotlib inline"
   ]
  },
  {
   "cell_type": "code",
   "execution_count": 14,
   "metadata": {
    "slideshow": {
     "slide_type": "fragment"
    }
   },
   "outputs": [
    {
     "data": {
      "image/png": "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",
      "text/plain": [
       "<Figure size 432x288 with 1 Axes>"
      ]
     },
     "metadata": {
      "needs_background": "light"
     },
     "output_type": "display_data"
    }
   ],
   "source": [
    "fig, ax = plt.subplots()\n",
    "ax = sns.barplot(x = \"era\", y=\"mean_runs\", data=mean_runs, ax = ax)\n",
    "_ = ax.set_title(\"Mean era per pitcher by era\")"
   ]
  },
  {
   "cell_type": "markdown",
   "metadata": {
    "slideshow": {
     "slide_type": "slide"
    }
   },
   "source": [
    "## <font color=\"red\"> Exercise 3 </font>\n",
    "\n",
    "Compose the two queries into one piped expression (filter + mutate + group_by + summarise)"
   ]
  },
  {
   "cell_type": "code",
   "execution_count": 15,
   "metadata": {
    "slideshow": {
     "slide_type": "fragment"
    }
   },
   "outputs": [
    {
     "ename": "TypeError",
     "evalue": "unsupported operand type(s) for +: 'type' and 'pipe'",
     "output_type": "error",
     "traceback": [
      "\u001b[0;31m---------------------------------------------------------------------------\u001b[0m",
      "\u001b[0;31mTypeError\u001b[0m                                 Traceback (most recent call last)",
      "\u001b[1;32m/Users/paytonsimmons/module2_intro_to_pandas/2_6_aggregation.ipynb Cell 23\u001b[0m in \u001b[0;36m<cell line: 1>\u001b[0;34m()\u001b[0m\n\u001b[0;32m----> <a href='vscode-notebook-cell:/Users/paytonsimmons/module2_intro_to_pandas/2_6_aggregation.ipynb#X31sZmlsZQ%3D%3D?line=0'>1</a>\u001b[0m \u001b[39mfilter\u001b[39;49m \u001b[39m+\u001b[39;49m mutate \u001b[39m+\u001b[39m group_by \u001b[39m+\u001b[39m summarise\n",
      "\u001b[0;31mTypeError\u001b[0m: unsupported operand type(s) for +: 'type' and 'pipe'"
     ]
    }
   ],
   "source": [
    "filter + mutate + group_by + summarise"
   ]
  },
  {
   "cell_type": "markdown",
   "metadata": {
    "slideshow": {
     "slide_type": "slide"
    }
   },
   "source": [
    "## Grouping by more than one category\n",
    "\n",
    "* `group_by` accepts multiple columns\n",
    "* Groups all combinations"
   ]
  },
  {
   "cell_type": "markdown",
   "metadata": {
    "slideshow": {
     "slide_type": "slide"
    }
   },
   "source": [
    "## Example - Find all teams with 100+ wins in a season"
   ]
  },
  {
   "cell_type": "markdown",
   "metadata": {
    "slideshow": {
     "slide_type": "slide"
    }
   },
   "source": [
    "#### `pandas` + `dfply`"
   ]
  },
  {
   "cell_type": "code",
   "execution_count": 14,
   "metadata": {
    "slideshow": {
     "slide_type": "fragment"
    }
   },
   "outputs": [
    {
     "data": {
      "text/html": [
       "<div>\n",
       "<style scoped>\n",
       "    .dataframe tbody tr th:only-of-type {\n",
       "        vertical-align: middle;\n",
       "    }\n",
       "\n",
       "    .dataframe tbody tr th {\n",
       "        vertical-align: top;\n",
       "    }\n",
       "\n",
       "    .dataframe thead th {\n",
       "        text-align: right;\n",
       "    }\n",
       "</style>\n",
       "<table border=\"1\" class=\"dataframe\">\n",
       "  <thead>\n",
       "    <tr style=\"text-align: right;\">\n",
       "      <th></th>\n",
       "      <th>teamID</th>\n",
       "      <th>yearID</th>\n",
       "      <th>total_wins</th>\n",
       "    </tr>\n",
       "  </thead>\n",
       "  <tbody>\n",
       "    <tr>\n",
       "      <th>2905</th>\n",
       "      <td>HOU</td>\n",
       "      <td>2019</td>\n",
       "      <td>107</td>\n",
       "    </tr>\n",
       "    <tr>\n",
       "      <th>2908</th>\n",
       "      <td>LAN</td>\n",
       "      <td>2019</td>\n",
       "      <td>106</td>\n",
       "    </tr>\n",
       "    <tr>\n",
       "      <th>2912</th>\n",
       "      <td>NYA</td>\n",
       "      <td>2019</td>\n",
       "      <td>103</td>\n",
       "    </tr>\n",
       "    <tr>\n",
       "      <th>2911</th>\n",
       "      <td>MIN</td>\n",
       "      <td>2019</td>\n",
       "      <td>101</td>\n",
       "    </tr>\n",
       "    <tr>\n",
       "      <th>2868</th>\n",
       "      <td>BOS</td>\n",
       "      <td>2018</td>\n",
       "      <td>108</td>\n",
       "    </tr>\n",
       "  </tbody>\n",
       "</table>\n",
       "</div>"
      ],
      "text/plain": [
       "     teamID  yearID  total_wins\n",
       "2905    HOU    2019         107\n",
       "2908    LAN    2019         106\n",
       "2912    NYA    2019         103\n",
       "2911    MIN    2019         101\n",
       "2868    BOS    2018         108"
      ]
     },
     "execution_count": 14,
     "metadata": {},
     "output_type": "execute_result"
    }
   ],
   "source": [
    "(pitching\n",
    " >> select(X.yearID, X.teamID, X.W)\n",
    " >> group_by(X.yearID, X.teamID)\n",
    " >> summarise(total_wins = X.W.sum())\n",
    " >> ungroup\n",
    " >> filter_by(X.total_wins >= 100)\n",
    " >> arrange(X.yearID, X.total_wins, ascending=False)\n",
    " >> head\n",
    ")"
   ]
  },
  {
   "cell_type": "markdown",
   "metadata": {
    "slideshow": {
     "slide_type": "slide"
    }
   },
   "source": [
    "## So Iverson ... what's up with the `ungroup`?\n",
    "\n",
    "* `pandas` messes with the `df.index` to group\n",
    "* `dfply` adds a `_group_by` attribute to make this work without reindexing\n",
    "* `ungroup` clears this attribute\n",
    "* Do this before manipulating the resulting `df`"
   ]
  },
  {
   "cell_type": "code",
   "execution_count": 18,
   "metadata": {
    "slideshow": {
     "slide_type": "slide"
    }
   },
   "outputs": [
    {
     "data": {
      "text/plain": [
       "['group']"
      ]
     },
     "execution_count": 18,
     "metadata": {},
     "output_type": "execute_result"
    }
   ],
   "source": [
    "import numpy as np\n",
    "df = pd.DataFrame({'group': ['A', 'B', 'C'],\n",
    "                   'value': [1,2,3]\n",
    "                  })\n",
    "grouped_df = (df\n",
    "              >> group_by(X.group))\n",
    "grouped_df._grouped_by"
   ]
  },
  {
   "cell_type": "code",
   "execution_count": 19,
   "metadata": {
    "slideshow": {
     "slide_type": "fragment"
    }
   },
   "outputs": [],
   "source": [
    "ungrouped_df = (df\n",
    "                >> group_by(X.group)\n",
    "                >> ungroup)\n",
    "ungrouped_df._grouped_by"
   ]
  },
  {
   "cell_type": "markdown",
   "metadata": {
    "slideshow": {
     "slide_type": "slide"
    }
   },
   "source": [
    "## The last comparison might not be fair\n",
    "\n",
    "Comparison is only fair if pitchers all pitch the same number of outs/games/innings.  Let's see if there is a difference between the eras in terms of outs pitched (`IPouts`)."
   ]
  },
  {
   "cell_type": "code",
   "execution_count": 20,
   "metadata": {
    "slideshow": {
     "slide_type": "fragment"
    }
   },
   "outputs": [
    {
     "data": {
      "text/html": [
       "<div>\n",
       "<style scoped>\n",
       "    .dataframe tbody tr th:only-of-type {\n",
       "        vertical-align: middle;\n",
       "    }\n",
       "\n",
       "    .dataframe tbody tr th {\n",
       "        vertical-align: top;\n",
       "    }\n",
       "\n",
       "    .dataframe thead th {\n",
       "        text-align: right;\n",
       "    }\n",
       "</style>\n",
       "<table border=\"1\" class=\"dataframe\">\n",
       "  <thead>\n",
       "    <tr style=\"text-align: right;\">\n",
       "      <th></th>\n",
       "      <th>era</th>\n",
       "      <th>mean_outs</th>\n",
       "    </tr>\n",
       "  </thead>\n",
       "  <tbody>\n",
       "    <tr>\n",
       "      <th>0</th>\n",
       "      <td>after dead ball</td>\n",
       "      <td>308.190136</td>\n",
       "    </tr>\n",
       "    <tr>\n",
       "      <th>1</th>\n",
       "      <td>dead ball</td>\n",
       "      <td>390.134259</td>\n",
       "    </tr>\n",
       "  </tbody>\n",
       "</table>\n",
       "</div>"
      ],
      "text/plain": [
       "               era   mean_outs\n",
       "0  after dead ball  308.190136\n",
       "1        dead ball  390.134259"
      ]
     },
     "execution_count": 20,
     "metadata": {},
     "output_type": "execute_result"
    }
   ],
   "source": [
    "mean_outs = (pitching\n",
    "             >> select(X.IPouts, X.yearID)\n",
    "             >> filter_by((X.yearID >= 1900) & (X.yearID < 1940))\n",
    "             >> mutate(era = ifelse(X.yearID < 1920, \n",
    "                                    \"dead ball\", \n",
    "                                    \"after dead ball\"))\n",
    "             >> group_by(X.era)\n",
    "             >> summarise(mean_outs = mean(X.IPouts)))\n",
    "mean_outs"
   ]
  },
  {
   "cell_type": "code",
   "execution_count": 23,
   "metadata": {
    "slideshow": {
     "slide_type": "slide"
    }
   },
   "outputs": [
    {
     "data": {
      "image/png": "iVBORw0KGgoAAAANSUhEUgAAAYUAAAEWCAYAAACJ0YulAAAAOXRFWHRTb2Z0d2FyZQBNYXRwbG90bGliIHZlcnNpb24zLjUuMSwgaHR0cHM6Ly9tYXRwbG90bGliLm9yZy/YYfK9AAAACXBIWXMAAAsTAAALEwEAmpwYAAAc/ElEQVR4nO3df7xVdZ3v8dcbRMREhTgY8kO4DJVgiXkGNdNL6k3GmQY1LcwUvRg2g2X3ajPabRQr7tRczXlMjhaOP1AzpTQlmzERRbNUfhgaP+QhV1ARgqNpis2lwM/9Y33PcnHY+5x9jmedfeC8n4/Hfuy1vmt9v+uz99lnf/b6rrW+SxGBmZkZQK96B2BmZt2Hk4KZmeWcFMzMLOekYGZmOScFMzPLOSmYmVnOScGsm5C0QtLEDtSbKGl950eUt3+OpMfKat+6FycFQ9I6SX+UNKhF+TJJIWlknUJrt135CywixkXEQgBJMyXdVueQrAdyUrBma4EzmmckfQjoV79wdm2S9qh3DB3RneLuTrH0JE4K1uxW4OzC/FTgluIKkvpKulLSi5I2SfqepH5p2QBJ90lqkvRamh5WqLtQ0jck/VLSm5IeaLln0mJbn5e0RtLvJM2TdGAqH5n2XvZo0fZ5kg4GvgccJWmLpNfT8pMkrUzbfVnSxVW2eU6K77uSfi/pWUnHF5bvJ+kGSRtTO9+U1LtF3asl/Q6YWaH9mZJ+LOnOFMtTkg4tLF8n6QRJk4CvAp9Jr+PptHygpJskbUjv8T0t2r9I0uYU37k1/t0mSlov6e8l/Ra4qfqfZOf3RdLpkpZWiOOeKo206z2UNFrSQ5JelfSKpB9I2r9KjNYJnBSs2RPAvpIOTv+knwFadl98G3g/MB74M2AocFla1ovsC+UgYATwn8A1Lep/FjgXGAzsCVT7cj4O+Efg08AQ4AXgjrZeQESsAr4APB4R+0TE/mnRDcD5EdEfOAR4qJVmjgCeBwYBlwN3SxqYls0BtpG99sOATwDnVag7GJhVpf3JwI+AgcDtwD2S+rR4HfcD/xu4M72O5sRxK7A3MC5t4+pCtfcB+5H9TaYB/yppQFrW2t+tue5Asr/d9CpxV3tf5gGjUkJu9rkUayXtfQ9F9lk4EDgYGE6FhGudKCL86OEPYB1wAvA1sn/AScB8YA8ggJFk/5xvAaML9Y4C1lZpczzwWmF+IfC1wvzfAvdXqXsD8E+F+X2AP6U4RqaY9mjR9nlp+hzgsRbtvQicD+zbxvtwDrABUKFsEXAWcACwFehXWHYG8HCh7otttD8TeKIw3wvYCBxT/DsU1r2tsO4Q4G1gQIV2J5Il4eJ7shk4sq2/W6r7R2Cvjrwvafo6YFaaHge8BvSt0E5nvIcnA7+u9//M7vxwn50V3Qo8CoyiRdcR0ED2K3WppOYyAc27/nuT/XKdBDT/Qu0vqXdEbE/zvy209weyL/tKDgSeap6JiC2SXiX7hfty+18WnyJLeN+S9AxwSUQ8XmXdlyN9+yQvpHgOAvoAGwuvvxfwUmHd4nQ1+ToR8bays4YOrKHecOB3EfFaleWvRsS2wnzz+9vq3y1pioj/18b2q70vkP36/6Gkr5El0LkRsbVCG+1+DyUNBv4FOAbon9av9h5YJ3D3keUi4gWyA84nAXe3WPwK2a/RcRGxf3rsFxHNX+wXAR8AjoiIfYFjU7lovw1kXyBZA9J7gPeSJYS3UvHehfXfV3wZFV7X4oiYTNYlcQ8wt5VtD1XhG4usK2wD2ZfVVmBQ4fXvGxHjWtt2BcObJyT1Aoal9ncKu8X8S8DADvSnt/V3q7StSqq9L0TEE2R7G8eQdRFW6zrqyHv4j6nsw+lz9Tk69pmyGjkpWEvTgOMi4q1iYUS8DVwPXJ1+vSFpqKQT0yr9yb58Xk99zZe/ixhuB86VNF5SX7L+9ScjYl1ENJElh89J6i3pvwOjC3U3AcMk7Zli3FPSmZL2i4g/AW8A26luMPAlSX0knU7Wj/3vEbEReAC4StK+knqlg6D/tZ2v7XBJpyo7UP5lsi/JJyqstwkYmRIHafv/AVyr7KB+H0nHVqi3gxr+brWq+L4Ult9CdgxpW0RUPCW4g+9hf2AL2edqKPCVdsZt7eSkYDuIiP8bEUuqLP57YA3whKQ3gAfJ9g4A/pnsFNZXyL7k7n8XMSwA/gG4i6zPfTQwpbDK58m+HF4l68P+VWHZQ8AK4LeSXkllZwHrUsxfIPu1Wc2TwJj0OmYBp0XEq2nZ2WQHyFeSdWH8mKyvvz3uJTuI/1qK69SUrFr6UXp+VVJzV9pZZMdWniU7ZvDlGrfZ2t+tVq29L5DtHRxC9b2EZu19D68APgL8HvgZO+/BWifTjt2EZj2XpHPIDlh/rKT2ZwJ/FhGtJaVdUjrFdTPwkYh4rt7xWMd5T8HMOsPfAIudEHZ9PvvIzN4VSevIDv6eXN9IrDO4+8jMzHLuPjIzs9wu3300aNCgGDlyZL3DMDPbpSxduvSViGhoWb7LJ4WRI0eyZEm1MyjNzKwSSS9UKi+9+yhdYPRrSfel+YGS5kt6Lj0PKKx7qbKRMVd34OIaMzN7l7rimMKFwKrC/CXAgogYAyxI80gaS3aB0jiy8XOubR5S18zMukapSUHZePp/CfxboXgy2QBapOeTC+V3RMTWiFhLdgXmhDLjMzOzHZW9p/DPwN+RDfnb7IA0BkrzWCiDU/lQdhwhcX0q24mk6ZKWSFrS1NTU6UGbmfVUpSUFSX8FbI6IpW2unKpUKKt4EUVEzI6IxohobGjY6eC5mZl1UJlnHx0N/LWkk4C9yO7qdRuwSdKQiNgoaQjZeCmQ7RkML9SvNqSwmZmVpLQ9hYi4NCKGRcRIsgPID6WBwOaR3f+X9Hxvmp4HTFF2P9lRZCMyLiorPjMz21k9rlP4FjBX0jSy2ySeDhARKyTNJRtSdxswo3DHLjMz6wK7/NhHjY2N4YvXzMzaR9LSiGhsWb7LX9Fstjt78esfqncI1g2NuOw3pbXtAfHMzCznpGBmZjknBTMzyzkpmJlZzknBzMxyTgpmZpZzUjAzs5yTgpmZ5ZwUzMws56RgZmY5JwUzM8s5KZiZWc5JwczMck4KZmaWc1IwM7Ock4KZmeWcFMzMLFdaUpC0l6RFkp6WtELSFal8pqSXJS1Lj5MKdS6VtEbSakknlhWbmZlVVubtOLcCx0XEFkl9gMck/UdadnVEXFlcWdJYYAowDjgQeFDS+yNie4kxmplZQWl7CpHZkmb7pEe0UmUycEdEbI2ItcAaYEJZ8ZmZ2c5KPaYgqbekZcBmYH5EPJkWXSDpGUk3ShqQyoYCLxWqr09lldqdLmmJpCVNTU1lhW9m1uOUmhQiYntEjAeGARMkHQJcB4wGxgMbgavS6qrURJV2Z0dEY0Q0NjQ0dHrcZmY9VZecfRQRrwMLgUkRsSkli7eB63mni2g9MLxQbRiwoSviMzOzTJlnHzVI2j9N9wNOAJ6VNKSw2inA8jQ9D5giqa+kUcAYYFFZ8ZmZ2c7KPPtoCDBHUm+y5DM3Iu6TdKuk8WRdQ+uA8wEiYoWkucBKYBsww2cemZl1rdKSQkQ8AxxWofysVurMAmaVFZOZmbXOVzSbmVnOScHMzHJOCmZmlnNSMDOznJOCmZnlnBTMzCznpGBmZjknBTMzyzkpmJlZzknBzMxyTgpmZpZzUjAzs5yTgpmZ5ZwUzMws56RgZmY5JwUzM8uVeee1XcLhX7ml3iFYN7T0/5xd7xDM6qLMezTvJWmRpKclrZB0RSofKGm+pOfS84BCnUslrZG0WtKJZcVmZmaVldl9tBU4LiIOBcYDkyQdCVwCLIiIMcCCNI+kscAUYBwwCbg23d/ZzMy6SGlJITJb0myf9AhgMjAnlc8BTk7Tk4E7ImJrRKwF1gATyorPzMx2VuqBZkm9JS0DNgPzI+JJ4ICI2AiQngen1YcCLxWqr09lZmbWRUpNChGxPSLGA8OACZIOaWV1VWqi4orSdElLJC1pamrqhEjNzAy66JTUiHgdWEh2rGCTpCEA6XlzWm09MLxQbRiwoUp7syOiMSIaGxoaygrbzKzHKfPsowZJ+6fpfsAJwLPAPGBqWm0qcG+angdMkdRX0ihgDLCorPjMzGxnZV6nMASYk84g6gXMjYj7JD0OzJU0DXgROB0gIlZImgusBLYBMyJie4nxmZlZC6UlhYh4BjisQvmrwPFV6swCZpUVk5mZtc7DXJiZWc5JwczMck4KZmaWc1IwM7Ock4KZmeWcFMzMLOekYGZmOScFMzPLOSmYmVnOScHMzHJOCmZmlnNSMDOznJOCmZnlnBTMzCznpGBmZjknBTMzyzkpmJlZzknBzMxypSUFScMlPSxplaQVki5M5TMlvSxpWXqcVKhzqaQ1klZLOrGs2MzMrLLS7tEMbAMuioinJPUHlkqan5ZdHRFXFleWNBaYAowDDgQelPT+iNheYoxmZlbQrj0FSQMkfbiWdSNiY0Q8labfBFYBQ1upMhm4IyK2RsRaYA0woT3xmZnZu9NmUpC0UNK+kgYCTwM3SfpOezYiaSRwGPBkKrpA0jOSbpQ0IJUNBV4qVFtPlSQiabqkJZKWNDU1tScUMzNrRS17CvtFxBvAqcBNEXE4cEKtG5C0D3AX8OXUznXAaGA8sBG4qnnVCtWjUpsRMTsiGiOisaGhodZQzMysDbUkhT0kDQE+DdzXnsYl9SFLCD+IiLsBImJTRGyPiLeB63mni2g9MLxQfRiwoT3bMzOzd6eWpHAF8HNgTUQslvRfgOfaqiRJwA3Aqoj4TqF8SGG1U4DlaXoeMEVSX0mjgDHAotpehpmZdYZazj7aGBH5weWIeL7GYwpHA2cBv5G0LJV9FThD0niyrqF1wPmp3RWS5gIryc5cmuEzj8zMulYtSeG7wEdqKNtBRDxG5eME/95KnVnArBpiMjOzElRNCpKOAj4KNEj6n4VF+wK9yw7MzMy6Xmt7CnsC+6R1+hfK3wBOKzMoMzOrj6pJISIeAR6RdHNEvNCFMZmZWZ3UckzhZkk7XS8QEceVEI+ZmdVRLUnh4sL0XsCnyM4OMjOz3UybSSEilrYo+qWkR0qKx8zM6qjNpJDGPGrWCzgceF9pEZmZWd3U0n20lOxCM5F1G60FppUZlJmZ1Uct3UejuiIQMzOrv1q6j/oAfwMcm4oWAt+PiD+VGJeZmdVBLd1H1wF9gGvT/Fmp7LyygjIzs/qoJSn8eUQcWph/SNLTZQVkZmb1U8vQ2dsljW6eSUNne/RSM7PdUC17Cl8BHpb0PNkZSAcB55YalZmZ1UUtZx8tkDQG+ABZUng2IrY2L5f03yJifokxmplZF6ml+4iI2BoRz0TE08WEkHy7hLjMzKwOakoKbah0Ix0zM9sFdUZS2GkEVQBJwyU9LGmVpBWSLkzlAyXNl/Rceh5QqHOppDWSVks6sRNiMzOzduiMpFDNNuCiiDgYOBKYIWkscAmwICLGAAvSPGnZFGAcMAm4VpLv8GZm1oU6Iymsq1QYERsj4qk0/SawChgKTAbmpNXmACen6cnAHen4xVpgDTChE+IzM7Ma1XJKKpI+Cowsrh8Rt6TnU2uoPxI4DHgSOCAiNqa6GyUNTqsNBZ4oVFufyszMrIvUMvbRrcBoYBnvXLQWwC21bEDSPsBdwJcj4g2p6nHpSguqHa+YDkwHGDFiRC1hmJlZDWrZU2gExkZExS/o1qTB9O4CfhARd6fiTZKGpL2EIcDmVL4eGF6oPgzYUKndiJgNzAZobGxsd1xmZlZZLccUltOBm+oo2yW4AVgVEd8pLJoHTE3TU4F7C+VTJPWVNAoYAyxq73bNzKzjatlTGASslLQIyC9ci4i/bqPe0WQjqv5G0rJU9lXgW8BcSdOAF4HTU3srJM0FVpKduTQjIjzGkplZF6olKczsSMMR8RjVL2w7vkqdWcCsjmzPzMzevVrGPnqkKwIxM7P6a/OYgqQjJS2WtEXSHyVtl/RGVwRnZmZdq5YDzdcAZwDPAf3I7rh2TZlBmZlZfdR08VpErJHUOx34vUnSr0qOy8zM6qCWpPAHSXsCyyT9E7AReE+5YZmZWT3U0n10VlrvAuAtsgvMPlVmUGZmVh+1nH30gqR+wJCIuKILYjIzszqp5eyjT5KNe3R/mh8vaV7JcZmZWR3U0n00k2wI69cBImIZ2YipZma2m6klKWyLiN+XHomZmdVdLWcfLZf0WaC3pDHAlwCfkmpmthuqZU/hi2S3yNwK3A78HriwzKDMzKw+akkKY9NjD2AvsttmLi4zKDMzq49auo9+AFxMdl+Ft8sNx8zM6qmWpNAUET8tPRIzM6u7WpLC5ZL+DVjAjjfZubt6FTMz2xXVkhTOBT4I9OGd7qMAnBTMzHYztSSFQyPiQ6VHYmZmdVfL2UdPSBrbkcYl3Shps6TlhbKZkl6WtCw9Tiosu1TSGkmrJZ3YkW2amVnH1bKn8DFgqqS1ZMcUBEREfLiGujeT3ZDnlhblV0fElcWClHimkF0TcSDwoKT3p3s4mJlZF6glKUzqaOMR8aikkTWuPhm4IyK2AmslrSEbc+nxjm7fzMzap6ahs0vY7gWSzgaWABdFxGvAUOCJwjrrU9lOJE0HpgOMGDGihPDMzHqmWo4pdLbrgNHAeLK7uF2VylVh3ajUQETMjojGiGhsaGgoJUgzs56oy5NCRGyKiO0R8TZwPVkXEWR7BsMLqw4DNnR1fGZmPVmXJwVJQwqzp5ANnwEwD5giqa+kUcAYYFFXx2dm1pPVcqC5wyT9EJgIDJK0HrgcmChpPFnX0DrgfICIWCFpLrAS2AbM8JlHZmZdq9SkEBFnVCi+oZX1ZwGzyovIzMxaU48DzWZm1k05KZiZWc5JwczMck4KZmaWc1IwM7Ock4KZmeWcFMzMLOekYGZmOScFMzPLOSmYmVnOScHMzHJOCmZmlnNSMDOznJOCmZnlnBTMzCznpGBmZjknBTMzyzkpmJlZrtSkIOlGSZslLS+UDZQ0X9Jz6XlAYdmlktZIWi3pxDJjMzOznZW9p3AzMKlF2SXAgogYAyxI80gaC0wBxqU610rqXXJ8ZmZWUGpSiIhHgd+1KJ4MzEnTc4CTC+V3RMTWiFgLrAEmlBmfmZntqB7HFA6IiI0A6XlwKh8KvFRYb30q24mk6ZKWSFrS1NRUarBmZj1JdzrQrAplUWnFiJgdEY0R0djQ0FByWGZmPUc9ksImSUMA0vPmVL4eGF5YbxiwoYtjMzPr0eqRFOYBU9P0VODeQvkUSX0ljQLGAIvqEJ+ZWY+1R5mNS/ohMBEYJGk9cDnwLWCupGnAi8DpABGxQtJcYCWwDZgREdvLjM/MzHZUalKIiDOqLDq+yvqzgFnlRWRmZq3pTgeazcyszpwUzMws56RgZmY5JwUzM8s5KZiZWc5JwczMck4KZmaWc1IwM7Ock4KZmeWcFMzMLOekYGZmOScFMzPLOSmYmVnOScHMzHJOCmZmlnNSMDOznJOCmZnlSr3zWmskrQPeBLYD2yKiUdJA4E5gJLAO+HREvFavGM3Mepp67yl8PCLGR0Rjmr8EWBARY4AFad7MzLpIvZNCS5OBOWl6DnBy/UIxM+t56pkUAnhA0lJJ01PZARGxESA9D65UUdJ0SUskLWlqauqicM3Mdn91O6YAHB0RGyQNBuZLerbWihExG5gN0NjYGGUFaGbW09RtTyEiNqTnzcBPgAnAJklDANLz5nrFZ2bWE9UlKUh6j6T+zdPAJ4DlwDxgalptKnBvPeIzM+up6tV9dADwE0nNMdweEfdLWgzMlTQNeBE4vU7xmZn1SHVJChHxPHBohfJXgeO7PiIzM4Pud0qqmZnVkZOCmZnlnBTMzCznpGBmZjknBTMzyzkpmJlZzknBzMxyTgpmZpZzUjAzs5yTgpmZ5ZwUzMws56RgZmY5JwUzM8s5KZiZWc5JwczMck4KZmaWc1IwM7Ock4KZmeW6XVKQNEnSaklrJF1S73jMzHqSbpUUJPUG/hX4C2AscIaksfWNysys5+hWSQGYAKyJiOcj4o/AHcDkOsdkZtZj7FHvAFoYCrxUmF8PHNFyJUnTgelpdouk1V0QW08wCHil3kF0B7pyar1DsJ3589nscnVGKwdVKuxuSaHSK42dCiJmA7PLD6dnkbQkIhrrHYdZJf58do3u1n20HhhemB8GbKhTLGZmPU53SwqLgTGSRknaE5gCzKtzTGZmPUa36j6KiG2SLgB+DvQGboyIFXUOqydxl5x1Z/58dgFF7NRlb2ZmPVR36z4yM7M6clIwM7Ock0I3Jel0SaskPSxpoqSPdnL7N0s6rZPa2lKhbKSk5R2NSdJCST79cBcnaaakizuprXWSBlUo3+nzV2tMnfl/sLtwUui+pgF/GxEfByYC7UoKkrrVSQRmtmtwUqgzSfdIWippRbpSG0mXAR8DvifpR8AXgP8haZmkYyQ1SLpL0uL0ODrVmylptqQHgFtabEeSrpG0UtLPgMGFZYdLeiTF8XNJQ1L551P7T6ft7Z3KR0l6PC37Risvbw9JcyQ9I+nHhfqXpbrLU7ydcnmmdQ+S/lca1PJB4AOF8tGS7k+fs19I+mAq/6SkJyX9WtKDkg5I5e+V9EAq/z6VL25tbvsqSU9JWiCpIZVV/PxaGyLCjzo+gIHpuR+wHHhvml8INKbpmcDFhTq3Ax9L0yOAVYX1lgL9KmznVGA+2am+BwKvA6cBfYBfAQ1pvc+QnQpMcyxp+pvAF9P0PODsND0D2FJheyPJrkY/Os3f2Pwaml9zmr4V+GSavhk4reXr92PXeQCHA78B9gb2BdYU/u4LgDFp+gjgoTQ9gHfOhDwPuCpN/wtwWZr+y/R5GlRhmwGcmaYvA65J09U+v/n/U/Ez50f2cBdD/X1J0ilpejgwBni1jTonAGMLP7D3ldQ/Tc+LiP+sUOdY4IcRsR3YIOmhVP4B4BBgfmqvN7AxLTtE0jeB/YF9yK4fATga+FSavhX4dpU4X4qIX6bp24AvAVcCH5f0d2RfHAOBFcBP23jNtms4BvhJRPwBQNK89LwPWRfojwqf277peRhwZ9pD3RNYm8qPJfsxQ0T8TNJrVbb5NnBnmr4NuDtNV/v8WiucFOpI0kSyL/ijIuIPkhYCe9VQtVeqs8OXf/pne6uVepUuShGwIiKOqrDsZuDkiHha0jlkxzZaa6ut7YWkvYBryfYCXpI0k9pes+06Kn02egGvR8T4Csu+C3wnIual/4mZbbRV6/Zvpvrn16rwMYX62g94LSWEDwJHVlnvTaB/Yf4B4ILmGUnja9jWo8AUSb3TL7KPp/LVQIOko1JbfSSNS8v6Axsl9QHOLLT1S7IhSGhR3tKI5naBM4DHeCcBvJJ+PfrMj93Lo8ApkvqlvddPAkTEG8BaSadDfozr0FRnP+DlND21RVtnpvX/gqybqZJevPM5+izZ5wyqf36tFU4K9XU/2cHYZ4BvAE9UWe+nZP9oyyQdQ9YN05gO4K4kOxDdlp8Az5H1914HPAIQ2X0rTgO+LelpYBnvnOn0D8CTZMcini20dSEwQ9Jisn/oalYBU9PrGwhcFxGvA9enOO4hG+/KdhMR8RRZV84y4C7gF4XFZwLT0udsBe/cK2UmWbfSL9hxaOwrgGMlPQV8AnixymbfAsZJWgocB3w9lVf7/ForPMyFmZnlvKdgZmY5JwUzM8s5KZiZWc5JwczMck4KZmaWc1IwM7Ock4JZiST1rncMZu3hpGD2Lkj6nKRF6cLC76crxrdI+rqkJ4GjPCqs7UqcFMw6SNLBZKPKHp3G9NlOdtXue4DlEXFERDxGNmrnn0fEIWSj4f5VvWI2a4sHxDPruOPJhopenH789wM2kyWHuwrreVRY22V4mAuzDpL0ReDAiLi0RfmWiNgnTe8FvMCOo8ISETO7OFyzmrj7yKzjFgCnSRoMIGmgpINarONRYW2X4u4jsw6KiJWSvgY8IKkX8CeyO9EV13ldUvOosOvwqLDWzbn7yMzMcu4+MjOznJOCmZnlnBTMzCznpGBmZjknBTMzyzkpmJlZzknBzMxy/x9uly8ypAtZUgAAAABJRU5ErkJggg==",
      "text/plain": [
       "<Figure size 432x288 with 1 Axes>"
      ]
     },
     "metadata": {
      "needs_background": "light"
     },
     "output_type": "display_data"
    }
   ],
   "source": [
    "fig, ax = plt.subplots()\n",
    "ax = sns.barplot(x = \"era\", y=\"mean_outs\", data=mean_outs, ax = ax)\n",
    "_ = ax.set_title(\"Mean outs per pitcher by era\")"
   ]
  },
  {
   "cell_type": "markdown",
   "metadata": {
    "slideshow": {
     "slide_type": "slide"
    }
   },
   "source": [
    "## A more fair comparison\n",
    "\n",
    "Instead of comparing the era's on a per-pitcher basis, let's compare on a per year basis.  We will\n",
    "\n",
    "1. Compute the total runs and total IPouts per year.\n",
    "2. Compute the ratio of these totals for each year.\n",
    "3. Compute the average value of the ratio for each era"
   ]
  },
  {
   "cell_type": "code",
   "execution_count": 24,
   "metadata": {
    "slideshow": {
     "slide_type": "fragment"
    }
   },
   "outputs": [
    {
     "data": {
      "text/html": [
       "<div>\n",
       "<style scoped>\n",
       "    .dataframe tbody tr th:only-of-type {\n",
       "        vertical-align: middle;\n",
       "    }\n",
       "\n",
       "    .dataframe tbody tr th {\n",
       "        vertical-align: top;\n",
       "    }\n",
       "\n",
       "    .dataframe thead th {\n",
       "        text-align: right;\n",
       "    }\n",
       "</style>\n",
       "<table border=\"1\" class=\"dataframe\">\n",
       "  <thead>\n",
       "    <tr style=\"text-align: right;\">\n",
       "      <th></th>\n",
       "      <th>era</th>\n",
       "      <th>mean_runs_per_out</th>\n",
       "    </tr>\n",
       "  </thead>\n",
       "  <tbody>\n",
       "    <tr>\n",
       "      <th>0</th>\n",
       "      <td>after dead ball</td>\n",
       "      <td>0.182218</td>\n",
       "    </tr>\n",
       "    <tr>\n",
       "      <th>1</th>\n",
       "      <td>dead ball</td>\n",
       "      <td>0.149920</td>\n",
       "    </tr>\n",
       "  </tbody>\n",
       "</table>\n",
       "</div>"
      ],
      "text/plain": [
       "               era  mean_runs_per_out\n",
       "0  after dead ball           0.182218\n",
       "1        dead ball           0.149920"
      ]
     },
     "execution_count": 24,
     "metadata": {},
     "output_type": "execute_result"
    }
   ],
   "source": [
    "mean_runs_per_out = (pitching\n",
    "                     >> select(X.IPouts, X.yearID, X.R)\n",
    "                     >> filter_by((X.yearID >= 1900) & (X.yearID < 1940))\n",
    "                     >> group_by(X.yearID)\n",
    "                     >> summarise(total_runs = X.R.sum(),\n",
    "                                  total_ipouts = X.IPouts.sum())\n",
    "                     >> ungroup\n",
    "                     >> mutate(runs_per_out = X.total_runs/X.total_ipouts,\n",
    "                               era = ifelse(X.yearID < 1920, \n",
    "                                            \"dead ball\", \n",
    "                                            \"after dead ball\"))\n",
    "                     >> group_by(X.era)\n",
    "                     >> summarise(mean_runs_per_out = mean(X.runs_per_out))\n",
    "                    )\n",
    "mean_runs_per_out"
   ]
  },
  {
   "cell_type": "code",
   "execution_count": 26,
   "metadata": {
    "slideshow": {
     "slide_type": "slide"
    }
   },
   "outputs": [
    {
     "data": {
      "image/png": "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",
      "text/plain": [
       "<Figure size 432x288 with 1 Axes>"
      ]
     },
     "metadata": {
      "needs_background": "light"
     },
     "output_type": "display_data"
    }
   ],
   "source": [
    "fig, ax = plt.subplots()\n",
    "ax = sns.barplot(x = \"era\", y=\"mean_runs_per_out\", data=mean_runs_per_out, ax = ax)\n",
    "_ = ax.set_title(\"Mean era per out by era\")"
   ]
  },
  {
   "cell_type": "markdown",
   "metadata": {
    "slideshow": {
     "slide_type": "slide"
    }
   },
   "source": [
    "## <font color=\"red\"> Exercise 4 </font>\n",
    "\n",
    "It would be easier to understand this result if we were computing runs on a per-game basis.  Redo the last problem, both this time compute `mean_runs_per_9_innings`.  **Hint:** There are 27 outs in a 9 inning game."
   ]
  },
  {
   "cell_type": "code",
   "execution_count": 22,
   "metadata": {
    "slideshow": {
     "slide_type": "fragment"
    }
   },
   "outputs": [],
   "source": [
    "# Your code here"
   ]
  },
  {
   "cell_type": "markdown",
   "metadata": {
    "slideshow": {
     "slide_type": "fragment"
    }
   },
   "source": [
    "## <font color=\"red\"> Exercise 5 </font>\n",
    "\n",
    "Compute and plot the average home runs per game allowed per year for all years in the pitching table.  To accomplish this task, you should\n",
    "\n",
    "1. Aggregate total `HR` and `IPouts` for each year.\n",
    "1. Create a `games_pitched`, which is computed by dividing total inning pitched outs `IPouts` by 27, the number of outs in a game.\n",
    "2. Create a `hr_per_game` column by dividing the total `HR` for each year by `games_pitched` for each year.\n",
    "4. Make line plot of the results. You will need to create a new column `HR_per_inning` then perform the group and aggregate. You can use [seaborn's lineplot](https://seaborn.pydata.org/generated/seaborn.lineplot.html) to make the graph."
   ]
  },
  {
   "cell_type": "code",
   "execution_count": 25,
   "metadata": {
    "slideshow": {
     "slide_type": "fragment"
    }
   },
   "outputs": [],
   "source": [
    "# Your refactored code here"
   ]
  }
 ],
 "metadata": {
  "celltoolbar": "Slideshow",
  "kernelspec": {
   "display_name": "Python 3.9.12 64-bit ('base')",
   "language": "python",
   "name": "python3"
  },
  "language_info": {
   "codemirror_mode": {
    "name": "ipython",
    "version": 3
   },
   "file_extension": ".py",
   "mimetype": "text/x-python",
   "name": "python",
   "nbconvert_exporter": "python",
   "pygments_lexer": "ipython3",
   "version": "3.9.12"
  },
  "varInspector": {
   "cols": {
    "lenName": 16,
    "lenType": 16,
    "lenVar": 40
   },
   "kernels_config": {
    "python": {
     "delete_cmd_postfix": "",
     "delete_cmd_prefix": "del ",
     "library": "var_list.py",
     "varRefreshCmd": "print(var_dic_list())"
    },
    "r": {
     "delete_cmd_postfix": ") ",
     "delete_cmd_prefix": "rm(",
     "library": "var_list.r",
     "varRefreshCmd": "cat(var_dic_list()) "
    }
   },
   "types_to_exclude": [
    "module",
    "function",
    "builtin_function_or_method",
    "instance",
    "_Feature"
   ],
   "window_display": false
  },
  "vscode": {
   "interpreter": {
    "hash": "bc91ddbee98e0416f1a0d61bbd73fda38c399f51add3f2d469b4f081df33c026"
   }
  }
 },
 "nbformat": 4,
 "nbformat_minor": 2
}
